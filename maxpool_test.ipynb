{
 "cells": [
  {
   "cell_type": "markdown",
   "metadata": {},
   "source": [
    "See [this](https://stackoverflow.com/questions/59906456/in-pytorchs-maxpool2d-is-padding-added-depending-on-ceil-mode) for discussion on padding in PyTorch's MaxPool2d. When `ceil_mode=True`, the padding is added to the right and bottom of the input."
   ]
  },
  {
   "cell_type": "code",
   "execution_count": 2,
   "metadata": {},
   "outputs": [],
   "source": [
    "import torch\n",
    "import torch.nn as nn"
   ]
  },
  {
   "cell_type": "code",
   "execution_count": null,
   "metadata": {},
   "outputs": [],
   "source": [
    "torch.manual_seed(0)\n",
    "input = torch.randn(1, 1, 5, 5)\n",
    "print(input.shape)\n",
    "print(input)\n",
    "\n",
    "m1 = nn.MaxPool2d(2)\n",
    "print(m1(input).shape)\n",
    "print(m1(input))\n",
    "\n",
    "m2 = nn.MaxPool2d(2, ceil_mode=True)\n",
    "print(m2(input).shape)\n",
    "print(m2(input))\n"
   ]
  }
 ],
 "metadata": {
  "kernelspec": {
   "display_name": "pytorch",
   "language": "python",
   "name": "python3"
  },
  "language_info": {
   "codemirror_mode": {
    "name": "ipython",
    "version": 3
   },
   "file_extension": ".py",
   "mimetype": "text/x-python",
   "name": "python",
   "nbconvert_exporter": "python",
   "pygments_lexer": "ipython3",
   "version": "3.11.9"
  }
 },
 "nbformat": 4,
 "nbformat_minor": 2
}
