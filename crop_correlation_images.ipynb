{
 "cells": [
  {
   "cell_type": "code",
   "execution_count": 18,
   "metadata": {},
   "outputs": [],
   "source": [
    "import os\n",
    "from PIL import Image\n",
    "from tqdm import tqdm\n"
   ]
  },
  {
   "cell_type": "code",
   "execution_count": null,
   "metadata": {},
   "outputs": [],
   "source": [
    "if os.name == 'posix':\n",
    "  root = os.path.expanduser(\"~/Documents/PyTorch_Data/correlation/guess-the-correlation\")\n",
    "else:\n",
    "  root = \"d:\\\\PyTorch_Data\\\\guess-the-correlation\"\n",
    "  \n",
    "train_imgs_path = os.path.join(root, 'train_imgs')\n",
    "\n",
    "files = os.listdir(train_imgs_path)\n",
    "files = sorted(files)\n",
    "files[:5]"
   ]
  },
  {
   "cell_type": "code",
   "execution_count": null,
   "metadata": {},
   "outputs": [],
   "source": [
    "# Load the image and crop with margins (20, 0, 150, 130)\n",
    "for img_file in tqdm(files):\n",
    "  img_path = os.path.join(train_imgs_path, img_file)\n",
    "  img = Image.open(img_path).crop((20, 0, 150, 130))\n",
    "  img.save(os.path.join(root, 'crop', img_file))\n"
   ]
  }
 ],
 "metadata": {
  "kernelspec": {
   "display_name": "pytorch",
   "language": "python",
   "name": "python3"
  },
  "language_info": {
   "codemirror_mode": {
    "name": "ipython",
    "version": 3
   },
   "file_extension": ".py",
   "mimetype": "text/x-python",
   "name": "python",
   "nbconvert_exporter": "python",
   "pygments_lexer": "ipython3",
   "version": "3.11.9"
  }
 },
 "nbformat": 4,
 "nbformat_minor": 2
}
