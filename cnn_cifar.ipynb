{
 "cells": [
  {
   "cell_type": "markdown",
   "metadata": {},
   "source": [
    "Based on: https://github.com/patrickloeber/pytorchTutorial/blob/master/14_cnn.py"
   ]
  },
  {
   "cell_type": "code",
   "execution_count": 29,
   "metadata": {},
   "outputs": [],
   "source": [
    "import torch\n",
    "import torch.nn as nn\n",
    "import torch.nn.functional as F\n",
    "import torchvision\n",
    "import torchvision.transforms as transforms\n",
    "import matplotlib.pyplot as plt\n",
    "import numpy as np\n",
    "import time"
   ]
  },
  {
   "cell_type": "code",
   "execution_count": 30,
   "metadata": {},
   "outputs": [
    {
     "name": "stdout",
     "output_type": "stream",
     "text": [
      "Using MPS\n"
     ]
    }
   ],
   "source": [
    "# Device configuration\n",
    "if torch.cuda.is_available():\n",
    "  device = torch.device('cuda')\n",
    "  print('Using GPU')\n",
    "elif torch.backends.mps.is_available():\n",
    "  device = torch.device('mps')\n",
    "  print('Using MPS')\n",
    "else:\n",
    "  device = torch.device('cpu')\n",
    "  print('Using CPU')\n",
    "\n",
    "device = torch.device('cpu')"
   ]
  },
  {
   "cell_type": "code",
   "execution_count": 31,
   "metadata": {},
   "outputs": [
    {
     "name": "stdout",
     "output_type": "stream",
     "text": [
      "Files already downloaded and verified\n",
      "Files already downloaded and verified\n"
     ]
    }
   ],
   "source": [
    "# Hyper-parameters \n",
    "batch_size = 4\n",
    "learning_rate = 0.001\n",
    "\n",
    "# dataset has PILImage images of range [0, 1]. \n",
    "# We transform them to Tensors of normalized range [-1, 1]\n",
    "transform = transforms.Compose(\n",
    "    [transforms.ToTensor(),\n",
    "     transforms.Normalize((0.5, 0.5, 0.5), (0.5, 0.5, 0.5))])\n",
    "\n",
    "# CIFAR10: 60000 32x32 color images in 10 classes, with 6000 images per class\n",
    "train_dataset = torchvision.datasets.CIFAR10(root='./data', train=True,\n",
    "                                        download=True, transform=transform)\n",
    "\n",
    "test_dataset = torchvision.datasets.CIFAR10(root='./data', train=False,\n",
    "                                       download=True, transform=transform)\n",
    "\n",
    "train_loader = torch.utils.data.DataLoader(train_dataset, batch_size=batch_size,\n",
    "                                          shuffle=True)\n",
    "\n",
    "test_loader = torch.utils.data.DataLoader(test_dataset, batch_size=batch_size,\n",
    "                                         shuffle=False)\n",
    "\n",
    "classes = ('plane', 'car', 'bird', 'cat',\n",
    "           'deer', 'dog', 'frog', 'horse', 'ship', 'truck')"
   ]
  },
  {
   "cell_type": "code",
   "execution_count": 32,
   "metadata": {},
   "outputs": [
    {
     "data": {
      "image/png": "[encoded data removed]",
      "text/plain": [
       "<Figure size 640x480 with 1 Axes>"
      ]
     },
     "metadata": {},
     "output_type": "display_data"
    }
   ],
   "source": [
    "def imshow(img):\n",
    "    img = img / 2 + 0.5  # unnormalize\n",
    "    npimg = img.numpy()\n",
    "    plt.imshow(np.transpose(npimg, (1, 2, 0)))\n",
    "    plt.show()\n",
    "\n",
    "\n",
    "# get some random training images\n",
    "dataiter = iter(train_loader)\n",
    "images, labels = next(dataiter)\n",
    "\n",
    "# show images\n",
    "imshow(torchvision.utils.make_grid(images))"
   ]
  },
  {
   "cell_type": "code",
   "execution_count": 38,
   "metadata": {},
   "outputs": [],
   "source": [
    "class ConvNet(nn.Module):\n",
    "    def __init__(self):\n",
    "        super(ConvNet, self).__init__()\n",
    "        self.conv1 = nn.Conv2d(3, 16, 5)\n",
    "        self.pool = nn.MaxPool2d(2, 2)\n",
    "        self.conv2 = nn.Conv2d(16, 16, 5)\n",
    "        self.fc1 = nn.Linear(16 * 5 * 5, 120)\n",
    "        self.fc2 = nn.Linear(120, 84)\n",
    "        self.fc3 = nn.Linear(84, 10)\n",
    "\n",
    "    def forward(self, x):\n",
    "        # -> n, 3, 32, 32\n",
    "        x = self.pool(F.relu(self.conv1(x)))  # -> n, 6, 14, 14\n",
    "        x = self.pool(F.relu(self.conv2(x)))  # -> n, 16, 5, 5\n",
    "        x = x.view(-1, 16 * 5 * 5)            # -> n, 400\n",
    "        x = F.relu(self.fc1(x))               # -> n, 120\n",
    "        x = F.relu(self.fc2(x))               # -> n, 84\n",
    "        x = self.fc3(x)                       # -> n, 10\n",
    "        return x\n",
    "\n",
    "model = ConvNet().to(device)\n",
    "\n",
    "criterion = nn.CrossEntropyLoss()\n",
    "optimizer = torch.optim.SGD(model.parameters(), lr=learning_rate)"
   ]
  },
  {
   "cell_type": "code",
   "execution_count": 39,
   "metadata": {},
   "outputs": [
    {
     "name": "stdout",
     "output_type": "stream",
     "text": [
      "Epoch [1/5], \tStep [2000/12500], \tLoss: 2.2849)\n",
      "Epoch [1/5], \tStep [4000/12500], \tLoss: 2.2775)\n",
      "Epoch [1/5], \tStep [6000/12500], \tLoss: 2.3062)\n",
      "Epoch [1/5], \tStep [8000/12500], \tLoss: 2.2555)\n",
      "Epoch [1/5], \tStep [10000/12500], \tLoss: 1.8447)\n",
      "Epoch [1/5], \tStep [12000/12500], \tLoss: 1.8170)\n",
      "Epoch Time: 23.34 seconds\n",
      "Epoch [2/5], \tStep [2000/12500], \tLoss: 2.2934)\n",
      "Epoch [2/5], \tStep [4000/12500], \tLoss: 2.0704)\n",
      "Epoch [2/5], \tStep [6000/12500], \tLoss: 2.0577)\n",
      "Epoch [2/5], \tStep [8000/12500], \tLoss: 1.0726)\n",
      "Epoch [2/5], \tStep [10000/12500], \tLoss: 1.3899)\n",
      "Epoch [2/5], \tStep [12000/12500], \tLoss: 1.2513)\n",
      "Epoch Time: 23.40 seconds\n",
      "Epoch [3/5], \tStep [2000/12500], \tLoss: 2.0522)\n",
      "Epoch [3/5], \tStep [4000/12500], \tLoss: 1.8666)\n",
      "Epoch [3/5], \tStep [6000/12500], \tLoss: 1.5435)\n",
      "Epoch [3/5], \tStep [8000/12500], \tLoss: 1.0261)\n",
      "Epoch [3/5], \tStep [10000/12500], \tLoss: 1.3448)\n",
      "Epoch [3/5], \tStep [12000/12500], \tLoss: 0.5557)\n",
      "Epoch Time: 22.45 seconds\n",
      "Epoch [4/5], \tStep [2000/12500], \tLoss: 1.3189)\n",
      "Epoch [4/5], \tStep [4000/12500], \tLoss: 2.2227)\n",
      "Epoch [4/5], \tStep [6000/12500], \tLoss: 1.5071)\n",
      "Epoch [4/5], \tStep [8000/12500], \tLoss: 1.5596)\n",
      "Epoch [4/5], \tStep [10000/12500], \tLoss: 1.2793)\n",
      "Epoch [4/5], \tStep [12000/12500], \tLoss: 1.7734)\n",
      "Epoch Time: 21.77 seconds\n",
      "Epoch [5/5], \tStep [2000/12500], \tLoss: 2.9978)\n",
      "Epoch [5/5], \tStep [4000/12500], \tLoss: 0.9505)\n",
      "Epoch [5/5], \tStep [6000/12500], \tLoss: 1.1643)\n",
      "Epoch [5/5], \tStep [8000/12500], \tLoss: 0.5853)\n",
      "Epoch [5/5], \tStep [10000/12500], \tLoss: 0.5418)\n",
      "Epoch [5/5], \tStep [12000/12500], \tLoss: 1.2120)\n",
      "Epoch Time: 22.57 seconds\n",
      "Finished Training in 113.54 seconds\n"
     ]
    }
   ],
   "source": [
    "num_epochs = 5\n",
    "\n",
    "n_total_steps = len(train_loader)\n",
    "loss_list = []\n",
    "\n",
    "start_time = time.time()\n",
    "\n",
    "for epoch in range(num_epochs):\n",
    "  running_loss = 0.0\n",
    "  epoch_time = time.time()\n",
    "  for i, (images, labels) in enumerate(train_loader):\n",
    "    \n",
    "    # origin shape: [4, 3, 32, 32] = 4, 3, 1024\n",
    "    # input_layer: 3 input channels, 6 output channels, 5 kernel size\n",
    "    images = images.to(device)\n",
    "    labels = labels.to(device)\n",
    "\n",
    "    # Forward pass\n",
    "    outputs = model(images)\n",
    "    loss = criterion(outputs, labels)\n",
    "\n",
    "    # Backward and optimize\n",
    "    optimizer.zero_grad()\n",
    "    loss.backward()\n",
    "    optimizer.step()\n",
    "\n",
    "    running_loss += loss.item()\n",
    "\n",
    "    if (i + 1) % 2000 == 0:\n",
    "      print(f'Epoch [{epoch+1}/{num_epochs}], \\tStep [{i+1}/{n_total_steps}], \\tLoss: {loss.item():.4f})')\n",
    "  \n",
    "  epoch_loss = running_loss / n_total_steps\n",
    "  loss_list.append(epoch_loss)\n",
    "\n",
    "  elapsed_time = time.time() - epoch_time\n",
    "  print(f'Epoch Time: {elapsed_time:.2f} seconds')\n",
    "\n",
    "end_time = time.time()\n",
    "execution_time = end_time - start_time\n",
    "print(f'Finished Training in {execution_time:.2f} seconds')\n",
    "\n",
    "PATH = './cnn.pth'\n",
    "torch.save(model.state_dict(), PATH)"
   ]
  },
  {
   "cell_type": "markdown",
   "metadata": {},
   "source": [
    "- Apple silicon @ 4: Finished Training in 8829.70 seconds\n",
    "- Apple silicon @ 16: Finished Training in 2818.96 seconds\n",
    "- CUDA @ 4: Finished Training in 10554.78 seconds"
   ]
  },
  {
   "cell_type": "code",
   "execution_count": 40,
   "metadata": {},
   "outputs": [
    {
     "data": {
      "image/png": "[encoded data removed]",
      "text/plain": [
       "<Figure size 640x480 with 1 Axes>"
      ]
     },
     "metadata": {},
     "output_type": "display_data"
    }
   ],
   "source": [
    "# Plotting the loss\n",
    "plt.plot(range(1, num_epochs + 1), loss_list, marker='o')\n",
    "plt.xlabel('Epoch')\n",
    "plt.ylabel('Loss')\n",
    "plt.title('Loss by Epoch')\n",
    "plt.show()"
   ]
  },
  {
   "cell_type": "code",
   "execution_count": null,
   "metadata": {},
   "outputs": [],
   "source": [
    "with torch.no_grad():\n",
    "  n_correct = 0\n",
    "  n_samples = 0\n",
    "  n_class_correct = [0 for i in range(10)]\n",
    "  n_class_samples = [0 for i in range(10)]\n",
    "  for images, labels in test_loader:\n",
    "    images = images.to(device)\n",
    "    labels = labels.to(device)\n",
    "    outputs = model(images)\n",
    "    # max returns (value ,index)\n",
    "    _, predicted = torch.max(outputs, 1)\n",
    "    n_samples += labels.size(0)\n",
    "    n_correct += (predicted == labels).sum().item()\n",
    "    \n",
    "    for i in range(batch_size):\n",
    "      label = labels[i]\n",
    "      pred = predicted[i]\n",
    "      if (label == pred):\n",
    "        n_class_correct[label] += 1\n",
    "      n_class_samples[label] += 1\n",
    "\n",
    "  acc = 100.0 * n_correct / n_samples\n",
    "  print(f'Accuracy of the network: {acc} %')\n",
    "\n",
    "  for i in range(10):\n",
    "    acc = 100.0 * n_class_correct[i] / n_class_samples[i]\n",
    "    print(f'Accuracy of {classes[i]}: {acc} %')\n"
   ]
  }
 ],
 "metadata": {
  "kernelspec": {
   "display_name": "deeplearn",
   "language": "python",
   "name": "python3"
  },
  "language_info": {
   "codemirror_mode": {
    "name": "ipython",
    "version": 3
   },
   "file_extension": ".py",
   "mimetype": "text/x-python",
   "name": "python",
   "nbconvert_exporter": "python",
   "pygments_lexer": "ipython3",
   "version": "3.11.9"
  }
 },
 "nbformat": 4,
 "nbformat_minor": 2
}
