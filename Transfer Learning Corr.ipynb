{
 "cells": [
  {
   "cell_type": "markdown",
   "id": "1fcfe84f",
   "metadata": {},
   "source": [
    "# Imports"
   ]
  },
  {
   "cell_type": "code",
   "execution_count": null,
   "id": "1719367b-a3ad-4307-aea8-5a474abc9b81",
   "metadata": {
    "tags": []
   },
   "outputs": [],
   "source": [
    "import torch\n",
    "import torch.nn as nn\n",
    "import torch.optim as optim\n",
    "from torchvision import transforms\n",
    "from torch.utils.data import Dataset, DataLoader\n",
    "from tqdm import tqdm\n",
    "import numpy as np\n",
    "import os\n",
    "import pandas as pd\n",
    "from PIL import Image\n",
    "import matplotlib.pyplot as plt\n",
    "\n",
    "import ssl\n",
    "ssl._create_default_https_context = ssl._create_unverified_context\n",
    "\n",
    "import warnings\n",
    "warnings.filterwarnings(\"ignore\")\n",
    "\n",
    "### SELECT DEVICE ###\n",
    "# GPU device configuration\n",
    "if torch.cuda.is_available():\n",
    "  DEVICE = torch.device('cuda')\n",
    "  print('Using CUDA')\n",
    "elif torch.backends.mps.is_available():\n",
    "  DEVICE = torch.device('mps')\n",
    "  print('Using MPS')\n",
    "else:\n",
    "  DEVICE = torch.device('cpu')\n",
    "  print('Using CPU')"
   ]
  },
  {
   "cell_type": "markdown",
   "id": "69827bd6-3504-4251-baac-f174c36104ef",
   "metadata": {},
   "source": [
    "# Dataloader"
   ]
  },
  {
   "cell_type": "code",
   "execution_count": 94,
   "id": "cb734155-29fe-4b8d-904b-0688c70edaa7",
   "metadata": {
    "tags": []
   },
   "outputs": [],
   "source": [
    "### DEFINE TRANSFORMATIONS ###\n",
    "normalizer = transforms.Normalize(mean = [0.485, 0.456, 0.406],\n",
    "                                  std = [0.229, 0.224, 0.225])\n",
    "train_transforms = transforms.Compose([\n",
    "                    transforms.Resize((224,224)),\n",
    "                    transforms.ToTensor(),\n",
    "                    normalizer\n",
    "                    ])\n",
    "\n",
    "class GuessTheCorrelationDataset(Dataset):\n",
    "  def __init__(self, root, transform=None, indexes=None):\n",
    "    self.root = root\n",
    "    self.transform = transform\n",
    "    self.img_dir = os.path.join(root, 'train_imgs')\n",
    "    \n",
    "    # Load correlation values\n",
    "    csv_path = os.path.join(root, 'train_responses.csv')\n",
    "    df = pd.read_csv(csv_path)\n",
    "    \n",
    "    # Filter by indexes if provided\n",
    "    if indexes is not None:\n",
    "      df = df.loc[df.index.isin(indexes)]\n",
    "    \n",
    "    self.img_files = df['id'].astype(str) + '.png'\n",
    "    self.correlations = df['corr'].values\n",
    "  \n",
    "  def __len__(self):\n",
    "    return len(self.img_files)\n",
    "  \n",
    "  def __getitem__(self, idx):\n",
    "    img_path = os.path.join(self.img_dir, self.img_files.iloc[idx])\n",
    "    image = Image.open(img_path).convert('RGB')\n",
    "    \n",
    "    if self.transform:\n",
    "      image = self.transform(image)\n",
    "    \n",
    "    label = torch.tensor(self.correlations[idx], dtype=torch.float32)\n",
    "    \n",
    "    return image, label"
   ]
  },
  {
   "cell_type": "code",
   "execution_count": 95,
   "id": "575bc6d4",
   "metadata": {},
   "outputs": [],
   "source": [
    "if os.name == 'posix':\n",
    "  root = os.path.expanduser(\"~/Documents/PyTorch_Data/correlation/guess-the-correlation\")\n",
    "else:\n",
    "  root = \"d:\\\\PyTorch_Data\\\\guess-the-correlation\"\n",
    "  \n",
    "train_imgs_path = os.path.join(root, 'train_imgs')\n",
    "# num_images = len([name for name in os.listdir(train_imgs_path) if os.path.isfile(os.path.join(train_imgs_path, name))])\n",
    "# print(f\"Number of images: {num_images}\")"
   ]
  },
  {
   "cell_type": "markdown",
   "id": "0d3b484d",
   "metadata": {},
   "source": [
    "# Model training function"
   ]
  },
  {
   "cell_type": "code",
   "execution_count": 96,
   "id": "0ac201bb",
   "metadata": {},
   "outputs": [],
   "source": [
    "def train(model, device, epochs, optimizer, loss_fn, batch_size, trainloader, valloader):\n",
    "    log_training = {\"epoch\": [],\n",
    "                    \"training_loss\": [],\n",
    "                    \"validation_loss\": []}\n",
    "\n",
    "    for epoch in range(1, epochs + 1):\n",
    "        print(f\"Starting Epoch {epoch}\")\n",
    "        training_losses = []\n",
    "        validation_losses = []\n",
    "\n",
    "        for image, label in tqdm(trainloader, ncols = 60):\n",
    "            image, label = image.to(device), label.to(device)\n",
    "            out = model.forward(image)\n",
    "        \n",
    "            ### CALCULATE LOSS ##\n",
    "            optimizer.zero_grad()\n",
    "            loss = loss_fn(out, label)\n",
    "            training_losses.append(np.sqrt(loss.item()))\n",
    "\n",
    "            loss.backward()\n",
    "            optimizer.step()\n",
    "\n",
    "        for image, label in tqdm(valloader, ncols = 60):\n",
    "            image, label = image.to(device), label.to(device)\n",
    "            with torch.no_grad():\n",
    "                out = model.forward(image)\n",
    "\n",
    "                ### CALCULATE LOSS ##\n",
    "                loss = loss_fn(out, label)\n",
    "                validation_losses.append(np.sqrt(loss.item()))\n",
    "\n",
    "        training_loss_mean = np.mean(training_losses)\n",
    "        valid_loss_mean = np.mean(validation_losses)\n",
    "\n",
    "        log_training[\"epoch\"].append(epoch)\n",
    "        log_training[\"training_loss\"].append(training_loss_mean)\n",
    "        log_training[\"validation_loss\"].append(valid_loss_mean)\n",
    "\n",
    "        print(\"Training Loss:\", training_loss_mean) \n",
    "        print(\"Validation Loss:\", valid_loss_mean)\n",
    "        print(\"=====================================\\n\")\n",
    "        \n",
    "    return log_training, model"
   ]
  },
  {
   "cell_type": "markdown",
   "id": "e5d7f93f-4fdc-400c-972d-1c6ffc6a97fc",
   "metadata": {},
   "source": [
    "## Load PreTrained Weights but Only Train the Final Classifier Layer"
   ]
  },
  {
   "cell_type": "code",
   "execution_count": null,
   "id": "67e41047",
   "metadata": {
    "tags": []
   },
   "outputs": [],
   "source": [
    "model = torch.hub.load('pytorch/vision:v0.10.0', 'resnet101', pretrained=True)\n",
    "model.fc\n",
    "model.fc = nn.Linear(2048, 1)\n",
    "\n",
    "# Check the name of all the parameters\n",
    "for name, param in model.named_parameters():\n",
    "  # print(name)\n",
    "  if \"fc\" not in name:\n",
    "    param.requires_grad_(False) # Inplace turn of gradient updates"
   ]
  },
  {
   "cell_type": "code",
   "execution_count": null,
   "id": "051fcc89",
   "metadata": {},
   "outputs": [],
   "source": [
    "print(model)"
   ]
  },
  {
   "cell_type": "code",
   "execution_count": null,
   "id": "b3122683",
   "metadata": {},
   "outputs": [],
   "source": [
    "total_parameters = 0\n",
    "for name, params in model.named_parameters():\n",
    "  num_params = int(torch.prod(torch.tensor(params.shape)))\n",
    "  print(name, \":\", params.shape, \"Num Parameters:\", num_params)\n",
    "  total_parameters += num_params\n",
    "\n",
    "print(\"------------------------\")\n",
    "print(\"Total Parameters in Model\", total_parameters)"
   ]
  },
  {
   "cell_type": "code",
   "execution_count": null,
   "id": "45cdcd1b-6d82-421c-87f0-3b3e19daedb7",
   "metadata": {
    "tags": []
   },
   "outputs": [],
   "source": [
    "model = torch.hub.load('pytorch/vision:v0.10.0', 'resnet101', pretrained=True)\n",
    "model.fc = nn.Linear(2048, 1)\n",
    "\n",
    "# Check the name of all the parameters\n",
    "for name, param in model.named_parameters():\n",
    "  # print(name)\n",
    "  if \"fc\" not in name:\n",
    "    param.requires_grad_(False) # Inplace turn of gradient updates\n",
    "\n",
    "model = model.to(DEVICE)\n",
    "\n",
    "### MODEL TRAINING INPUTS ###\n",
    "epochs = 50\n",
    "optimizer = optim.SGD(params=model.parameters(), lr=0.0001)\n",
    "loss_fn = nn.MSELoss()\n",
    "batch_size = 64\n",
    "\n",
    "# Dataset creation\n",
    "train_ds = GuessTheCorrelationDataset(root,\n",
    "                                      transform=train_transforms,\n",
    "                                      indexes=range(30000))\n",
    "valid_ds = GuessTheCorrelationDataset(root,\n",
    "                                      transform=train_transforms,\n",
    "                                      indexes=range(30000, 40000))\n",
    "test_ds = GuessTheCorrelationDataset(root,\n",
    "                                     transform=train_transforms,\n",
    "                                     indexes=range(40000, 50000))\n",
    "\n",
    "### BUILD DATALOADERS ###\n",
    "trainloader = DataLoader(train_ds, batch_size=batch_size, shuffle=True, num_workers=0)\n",
    "valloader = DataLoader(valid_ds, batch_size=batch_size, shuffle=False, num_workers=0)\n",
    "testloader = DataLoader(test_ds, batch_size=batch_size, shuffle=False, num_workers=0)"
   ]
  },
  {
   "cell_type": "code",
   "execution_count": null,
   "id": "561b5285",
   "metadata": {},
   "outputs": [],
   "source": [
    "data_iterator = iter(trainloader)\n",
    "data = next(data_iterator)\n",
    "features, labels = data\n",
    "\n",
    "plt.imshow(features[0].permute(1, 2, 0), cmap='gray')\n",
    "plt.axis('off')\n",
    "plt.show()"
   ]
  },
  {
   "cell_type": "code",
   "execution_count": null,
   "id": "6b95a63d",
   "metadata": {},
   "outputs": [],
   "source": [
    "train_logs, model = train(model=model,\n",
    "                          device=DEVICE,\n",
    "                          epochs=epochs,\n",
    "                          optimizer=optimizer,\n",
    "                          loss_fn=loss_fn,\n",
    "                          batch_size=batch_size,\n",
    "                          trainloader=trainloader,\n",
    "                          valloader=valloader)"
   ]
  },
  {
   "cell_type": "code",
   "execution_count": 104,
   "id": "2604e23d",
   "metadata": {},
   "outputs": [],
   "source": [
    "train_log_df = pd.DataFrame({'Epoch': train_logs['epoch'],\n",
    "                             'Training_Loss': train_logs['training_loss'],\n",
    "                             'Validation_Loss': train_logs['validation_loss']})"
   ]
  },
  {
   "cell_type": "markdown",
   "id": "15b78123",
   "metadata": {},
   "source": [
    "3000 training data @ 50 epochs:\n",
    "\n",
    "- Training Loss: 0.4556598829628105\n",
    "- Validation Loss: 0.4534302428237914\n",
    "\n",
    "30000 training data @ 50 epochs:\n",
    "\n",
    "- Training Loss: 0.4431861734305133\n",
    "- Validation Loss: 0.4413213843223881"
   ]
  },
  {
   "cell_type": "code",
   "execution_count": null,
   "id": "43c8fe5a",
   "metadata": {},
   "outputs": [],
   "source": [
    "plt.figure(figsize=(10, 6))\n",
    "\n",
    "# Example: Plot loss over epochs\n",
    "plt.plot(train_log_df['Epoch'], train_log_df['Training_Loss'],\n",
    "         label='Training Loss', marker='o')\n",
    "plt.plot(train_log_df['Epoch'], train_log_df['Validation_Loss'],\n",
    "         label='Validation Loss', marker='o')\n",
    "plt.title('Loss Over Epochs')\n",
    "plt.xlabel('Epoch')\n",
    "plt.ylabel('Loss')\n",
    "plt.legend()\n",
    "plt.grid(True)\n",
    "plt.show()"
   ]
  }
 ],
 "metadata": {
  "kernelspec": {
   "display_name": "pytorch",
   "language": "python",
   "name": "python3"
  },
  "language_info": {
   "codemirror_mode": {
    "name": "ipython",
    "version": 3
   },
   "file_extension": ".py",
   "mimetype": "text/x-python",
   "name": "python",
   "nbconvert_exporter": "python",
   "pygments_lexer": "ipython3",
   "version": "3.11.9"
  }
 },
 "nbformat": 4,
 "nbformat_minor": 5
}
